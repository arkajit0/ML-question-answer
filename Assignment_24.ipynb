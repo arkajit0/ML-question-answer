{
 "cells": [
  {
   "cell_type": "markdown",
   "metadata": {},
   "source": [
    "**1. What is your definition of clustering? What are a few clustering algorithms you might think of?**\n",
    "\n",
    "Clustering is the task of dividing the population or data into a number of groups such that the data points in the same groups have similar behaviour to other datas in the same groups and dissimilar behaviour to data points in other groups.\n",
    "<br><br>\n",
    "The Few clustering Algorithms are:\n",
    "- K-Means clustering(KMeans++)\n",
    "- Mean-Shift Clustering\n",
    "- Density-Based Spatial Clustering of Applications with Noise (DBSCAN)\n",
    "- Expectation–Maximization (EM) Clustering using Gaussian Mixture Models (GMM)\n",
    "- Agglomerative Hierarchical Clustering"
   ]
  },
  {
   "cell_type": "markdown",
   "metadata": {},
   "source": [
    "**2. What are some of the most popular clustering algorithm applications?**\n",
    "\n",
    "Clustering analysis is broadly used in many applications such as market research, pattern recognition, data analysis, and image processing. Clustering can also help marketers discover distinct groups in their customer base. And they can characterize their customer groups based on the purchasing patterns."
   ]
  },
  {
   "cell_type": "markdown",
   "metadata": {},
   "source": [
    "**3. When using K-Means, describe two strategies for selecting the appropriate number of clusters.**\n",
    "\n",
    "The two strategies for selecting appropriate number of clusters are:\n",
    "- Elbow method - In this method we select the value of k from the graph i.e the point after which distortion/inertia start decreasing in a linear fashion.\n",
    "- Knee Locator - Inbuild library in scikit-learn which uses WCSS to find the number of clusters."
   ]
  },
  {
   "cell_type": "markdown",
   "metadata": {},
   "source": [
    "**4. What is mark propagation and how does it work? Why would you do it, and how would you do it?**\n",
    "\n"
   ]
  },
  {
   "cell_type": "markdown",
   "metadata": {},
   "source": [
    "**5. Provide two examples of clustering algorithms that can handle large datasets. And two that look for high-density areas?**\n",
    "\n",
    "Two examples of clustering that can handle large dataset are:\n",
    "- K-Means\n",
    "- Density-Based Spatial Clustering of Applications with Noise (DBSCAN)\n",
    "<br>\n",
    "\n",
    "Two that look for high-density areas are:\n",
    "- Hierarchical Clustering\n",
    "- Density-Based Spatial Clustering of Applications with Noise (DBSCAN)"
   ]
  },
  {
   "cell_type": "markdown",
   "metadata": {},
   "source": [
    "**6. Can you think of a scenario in which constructive learning will be advantageous? How can you go about putting it into action?**\n",
    "\n"
   ]
  },
  {
   "cell_type": "code",
   "execution_count": null,
   "metadata": {},
   "outputs": [],
   "source": []
  }
 ],
 "metadata": {
  "kernelspec": {
   "display_name": "Python 3",
   "language": "python",
   "name": "python3"
  },
  "language_info": {
   "codemirror_mode": {
    "name": "ipython",
    "version": 3
   },
   "file_extension": ".py",
   "mimetype": "text/x-python",
   "name": "python",
   "nbconvert_exporter": "python",
   "pygments_lexer": "ipython3",
   "version": "3.7.7"
  }
 },
 "nbformat": 4,
 "nbformat_minor": 4
}
