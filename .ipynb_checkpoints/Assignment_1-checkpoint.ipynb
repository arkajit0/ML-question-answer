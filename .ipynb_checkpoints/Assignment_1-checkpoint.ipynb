{
 "cells": [
  {
   "cell_type": "markdown",
   "metadata": {},
   "source": [
    "**1. What does one mean by the term \"machine learning\"?**\n",
    "\n",
    "Machine Learning is an application of Artificial Intelligence(A.I.) that provides systems the ability to learn and improve from experience without being explicitly programmed. Machine Learning focuses on the development of computer programs that can access data and learn from themselves."
   ]
  },
  {
   "cell_type": "markdown",
   "metadata": {},
   "source": [
    "**2.Can you think of 4 distinct types of issues where it shines?**\n",
    "\n",
    "Machine learning is great for problems whose solution requires a great deal of work or a long list of rules, complex problems that are hard to get a solution using a traditional method, fluctuating environments and getting insights about complex problems and large data"
   ]
  },
  {
   "cell_type": "markdown",
   "metadata": {},
   "source": [
    "**3.What is a labeled training set, and how does it work?**\n",
    "\n",
    "Labeled training set is a set of training data which has solution to the problem or task. It works by feeding a particular solution for a given problem to the machine by which machine tries to learn the pattern of problem and solution(label)."
   ]
  },
  {
   "cell_type": "markdown",
   "metadata": {},
   "source": [
    "**4.What are the two most important tasks that are supervised?**\n",
    "\n",
    "The two most important tasks that are supervived are:\n",
    "- Regression\n",
    "- Classification"
   ]
  },
  {
   "cell_type": "markdown",
   "metadata": {},
   "source": [
    "**5.Can you think of four examples of unsupervised tasks?**\n",
    "\n",
    "The four examples of unsupervived tasks are:\n",
    "- Clustering\n",
    "- visualization\n",
    "- Dimentionality Reduction\n",
    "- Association Rule Learning"
   ]
  },
  {
   "cell_type": "markdown",
   "metadata": {},
   "source": [
    "**6.State the machine learning model that would be best to make a robot walk through various unfamiliar terrains?**\n",
    "\n",
    "The best Machine Learning model that would be best to make a robot walk is Reinforcement Learning where the robot can learn from response of the terrain to optimize itself."
   ]
  },
  {
   "cell_type": "markdown",
   "metadata": {},
   "source": [
    "**7.Which algorithm will you use to divide your customers into different groups?**\n",
    "\n",
    "The best algorithm to divide customers into different groups is Supervised Learning Algorithm(If the groups have known labels) or Unsupervised Learning Algorithm(If the groups have unknown labels)."
   ]
  },
  {
   "cell_type": "markdown",
   "metadata": {},
   "source": [
    "**8.Will you consider the problem of spam detection to be a supervised or unsupervised learning problem?**\n",
    "\n",
    "Spam Detection Problem is a Supervised Learning problem as the labels are known(Spam or not Spam)."
   ]
  },
  {
   "cell_type": "markdown",
   "metadata": {},
   "source": [
    "**9.What is the concept of an online learning system?**\n",
    "\n",
    "Online learning system is a learning system in which the machine learns as data is given in small streams or mini batches continuously."
   ]
  },
  {
   "cell_type": "markdown",
   "metadata": {},
   "source": [
    "**10.What is out-of-core learning, and how does it differ from core learning?**\n",
    "\n",
    "Out-of-core learning system refers to the system that can handle data that cannot fit into the memory of a single computer, but that can easily fit into some data storage such as local disk or web repository. "
   ]
  },
  {
   "cell_type": "markdown",
   "metadata": {},
   "source": [
    "**11.What kind of learning algorithm makes predictions using a similarity measure?**\n",
    "\n",
    "Algorithms that makes prediction using similarity is instance-based algorithm."
   ]
  },
  {
   "cell_type": "markdown",
   "metadata": {},
   "source": [
    "**12.What's the difference between a model parameter and a hyperparameter in a learning algorithm?**\n",
    "\n",
    "Model parameter determines how a model will predict given a new instance; model usually has more than one parameter. But Hyperparameter is a parameter for learning algorithm, not of a model."
   ]
  },
  {
   "cell_type": "markdown",
   "metadata": {},
   "source": [
    "**13.What are the criteria that model-based learning algorithms look for? What is the most popular method they use to achieve success? What method do they use to make predictions?**\n",
    "\n",
    "Model based learning algorithm search for the optimal value of a parameter in a model that will give best results for the new instances. We often use cost function or similar to determine what the parameter value has to be in order to minimize the function. The model makes predictions by using the value of the new instance and the parameter in its function."
   ]
  },
  {
   "cell_type": "markdown",
   "metadata": {},
   "source": [
    "**14.Can you name four of the most important Machine Learning challenges?**\n",
    "\n",
    "Four challenges in Machine Learning is:\n",
    "- Overfitting the data(using a model to complicated and fits good for training but not for testing)\n",
    "- Underfitting the data(using a simple model)"
   ]
  },
  {
   "cell_type": "markdown",
   "metadata": {},
   "source": [
    "**15.What happens if the model performs well on the training data but fails to generalize the results to new situations? Can you think of three different options?**\n",
    "\n",
    "If the model fails to generalize results to new instances then it has overfitted the training data.\n",
    "To solve this we can do the following:\n",
    "- Get more data\n",
    "- Implement a simpler model\n",
    "- Eliminate outliers or noise of the existing data set."
   ]
  },
  {
   "cell_type": "markdown",
   "metadata": {},
   "source": [
    "**16.What exactly is a test set, and why would you need one?**\n",
    "\n",
    "Test set is a set on which a model that was fitted in training data is tested to check the performance of the model.\n",
    "Test set is needed to understand how good or bad the model performs."
   ]
  },
  {
   "cell_type": "markdown",
   "metadata": {},
   "source": [
    "**17.What is a validation set's purpose?**\n",
    "\n",
    "Validation set is used to compare between different training models."
   ]
  },
  {
   "cell_type": "markdown",
   "metadata": {},
   "source": [
    "**18.What precisely is the train-dev kit, when will you need it, how do you put it to use?**\n",
    "\n",
    "A validation dataset is a dataset of examples used to tune the hyperparameters (i.e. the architecture) of a classifier. It is sometimes also called the development set or the \"dev set\". An example of a hyperparameter for artificial neural networks includes the number of hidden units in each layer."
   ]
  },
  {
   "cell_type": "markdown",
   "metadata": {},
   "source": [
    "**19.What could go wrong if you use the test set to tune hyperparameters?**\n",
    "\n",
    "If test set is used to tune hyperparameters then it may not perform well for out of sample data as the model is tuned for that specific set."
   ]
  }
 ],
 "metadata": {
  "kernelspec": {
   "display_name": "Python 3",
   "language": "python",
   "name": "python3"
  },
  "language_info": {
   "codemirror_mode": {
    "name": "ipython",
    "version": 3
   },
   "file_extension": ".py",
   "mimetype": "text/x-python",
   "name": "python",
   "nbconvert_exporter": "python",
   "pygments_lexer": "ipython3",
   "version": "3.7.7"
  }
 },
 "nbformat": 4,
 "nbformat_minor": 4
}
