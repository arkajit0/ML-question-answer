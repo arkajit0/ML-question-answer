{
 "cells": [
  {
   "cell_type": "markdown",
   "metadata": {},
   "source": [
    "**1. What is the concept of human learning? Please give two examples.**\n",
    "\n",
    "Learning is a key process in human behaviour. The skills, knowledge, habits, attitudes, interests and other personality characteristics are all the result of learning. Learning is defined as any relatively permanent change in behaviour that occurs as a result of practice and experience.\n",
    "<br>\n",
    "Example:\n",
    "- Auditive learning (learn by listening and speaking)\n",
    "- visual learning (learn through the eyes, by watching)"
   ]
  },
  {
   "cell_type": "markdown",
   "metadata": {},
   "source": [
    "**2. What different forms of human learning are there? Are there any machine learning equivalents?**\n",
    "\n",
    "The different forms of human learning are Auditive Learning(learn by listening and speaking), Visual Learning(learn through the eyes, by watching), Haptic Learning(learn by touching and feeling) and Learning through intellect."
   ]
  }
 ],
 "metadata": {
  "kernelspec": {
   "display_name": "Python 3",
   "language": "python",
   "name": "python3"
  },
  "language_info": {
   "codemirror_mode": {
    "name": "ipython",
    "version": 3
   },
   "file_extension": ".py",
   "mimetype": "text/x-python",
   "name": "python",
   "nbconvert_exporter": "python",
   "pygments_lexer": "ipython3",
   "version": "3.7.7"
  }
 },
 "nbformat": 4,
 "nbformat_minor": 4
}
