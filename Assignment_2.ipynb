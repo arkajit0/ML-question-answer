{
 "cells": [
  {
   "cell_type": "markdown",
   "metadata": {},
   "source": [
    "**1. What is the concept of human learning? Please give two examples.**\n",
    "\n",
    "Learning is a key process in human behaviour. The skills, knowledge, habits, attitudes, interests and other personality characteristics are all the result of learning. Learning is defined as any relatively permanent change in behaviour that occurs as a result of practice and experience.\n",
    "<br>\n",
    "Example:\n",
    "- Auditive learning (learn by listening and speaking)\n",
    "- visual learning (learn through the eyes, by watching)"
   ]
  },
  {
   "cell_type": "markdown",
   "metadata": {},
   "source": [
    "**2. What different forms of human learning are there? Are there any machine learning equivalents?**\n",
    "\n",
    "The different forms of human learning are Auditive Learning(learn by listening and speaking), Visual Learning(learn through the eyes, by watching), Haptic Learning(learn by touching and feeling) and Learning through intellect.\n",
    "\n",
    "Visionary and speech to text learning can be done in machine learning."
   ]
  },
  {
   "cell_type": "markdown",
   "metadata": {},
   "source": [
    "**3. What is machine learning, and how does it work? What are the key responsibilities of machine\n",
    "learning?**\n",
    "\n",
    "Machine learning is a form of artificial intelligence (AI) that teaches computers to think in a similar way to how humans do: Learning and improving upon past experiences. It works by exploring data and identifying patterns, and involves minimal human intervention.\n",
    "\n",
    "The key responsibilities of machine learning are:\n",
    "- Data Collection\n",
    "- Data Preprocessing\n",
    "- Feature Engineering\n",
    "- Diverse Algorithms\n",
    "- Algorithm Selection\n",
    "- Training and Tuning\n",
    "- Ensembling\n",
    "- Head to Head model competitions\n",
    "- Human Friendly insights"
   ]
  },
  {
   "cell_type": "markdown",
   "metadata": {},
   "source": [
    "**4. Define the terms &quot;penalty&quot; and &quot;reward&quot; in the context of reinforcement learning.**\n",
    "\n",
    "A reinforcement learning algorithm, which may also be referred to as an agent, learns by interacting with its environment. The agent receives rewards by performing correctly and penalties for performing incorrectly. The agent learns without intervention from a human by maximizing its reward and minimizing its penalty."
   ]
  },
  {
   "cell_type": "markdown",
   "metadata": {},
   "source": [
    "**5. Explain the term &quot;learning as a search&quot;?**\n",
    "\n",
    "Learning can be viewed as a search through the space of all sentences in a concept description language for a sentence that best describes the data. Alternatively, it can be viewed as a search through all hypotheses in a hypothesis space."
   ]
  },
  {
   "cell_type": "markdown",
   "metadata": {},
   "source": [
    "**6. What are the various goals of machine learning? What is the relationship between these and\n",
    "human learning?**\n",
    "\n",
    "Machine learning focuses on the development of computer programs that can access data and use it to learn for themselves.<br>\n",
    "Humans acquire knowledge through experience either directly or shared by others. Machines acquire knowledge through experience shared in the form of past data."
   ]
  },
  {
   "cell_type": "markdown",
   "metadata": {},
   "source": [
    "**7. Illustrate the various elements of machine learning using a real-life illustration.**\n",
    "\n",
    "- Image Processing - For image detection and classification\n",
    "- Speechtotext - speech recognition and auto reply according to the context\n",
    "- Medical diagnosis\n",
    "- Predicting Analysis"
   ]
  },
  {
   "cell_type": "markdown",
   "metadata": {},
   "source": [
    "**8. Provide an example of the abstraction method.**"
   ]
  },
  {
   "cell_type": "code",
   "execution_count": 2,
   "metadata": {},
   "outputs": [
    {
     "name": "stdout",
     "output_type": "stream",
     "text": [
      "area:  200\n"
     ]
    }
   ],
   "source": [
    "import abc\n",
    "class Shape(metaclass=abc.ABCMeta):\n",
    "    @abc.abstractmethod\n",
    "    def area(self):\n",
    "        pass\n",
    "class Rectangle(Shape):\n",
    "    def __init__(self, x,y):\n",
    "        self.l = x\n",
    "        self.b=y\n",
    "    def area(self):\n",
    "        return self.l*self.b\n",
    "r = Rectangle(10,20)\n",
    "print ('area: ',r.area())"
   ]
  },
  {
   "cell_type": "markdown",
   "metadata": {},
   "source": [
    "**9. What is the concept of generalization? What function does it play in the machine learning process?**\n",
    "\n",
    "In machine learning, generalization is a definition to demonstrate how well is a trained model to classify or forecast unseen data. <br>\n",
    "Training a generalized machine learning model means, in general, it works for all subset of unseen data. An example is when we train a model to classify between dogs and cats."
   ]
  },
  {
   "cell_type": "markdown",
   "metadata": {},
   "source": [
    "**10. What is classification, exactly? What are the main distinctions between classification and regression?**\n",
    "\n",
    "Classification is the task of predicting a discrete class label.\n",
    "\n",
    "Difference between Classification and Regression are as follows:\n",
    "\n",
    "**Classification:**\n",
    "- A classification problem requires that examples be classified into one of two or more classes.\n",
    "- A classification can have real-valued or discrete input variables.\n",
    "- A problem with two classes is often called a two-class or binary classification problem.\n",
    "- A problem with more than two classes is often called a multi-class classification problem.\n",
    "- A problem where an example is assigned multiple classes is called a multi-label classification problem.\n",
    "\n",
    "**Regression:**\n",
    "- A regression problem requires the prediction of a quantity.\n",
    "- A regression can have real valued or discrete input variables.\n",
    "- A problem with multiple input variables is often called a multivariate regression problem.\n",
    "- A regression problem where input variables are ordered by time is called a time series forecasting problem."
   ]
  },
  {
   "cell_type": "markdown",
   "metadata": {},
   "source": [
    "**11. What is regression, and how does it work? Give an example of a real-world problem that was solved using regression.**\n",
    "\n",
    "Regression is the task of predicting a continuous quantity.\n",
    "\n",
    "- A regression problem requires the prediction of a quantity.\n",
    "- A regression can have real valued or discrete input variables.\n",
    "- A problem with multiple input variables is often called a multivariate regression problem.\n",
    "- A regression problem where input variables are ordered by time is called a time series forecasting problem.\n",
    "\n",
    "Real world problem is price prediction of houses/properties, cars etc."
   ]
  },
  {
   "cell_type": "markdown",
   "metadata": {},
   "source": [
    "**12. Describe the clustering mechanism in detail.**\n",
    "\n",
    "Clustering is the task of dividing the population or data points into a number of groups such that data points in the same groups are more similar to other data points in the same group than those in other groups. In simple words, the aim is to segregate groups with similar traits and assign them into clusters."
   ]
  },
  {
   "cell_type": "markdown",
   "metadata": {},
   "source": [
    "**13. Make brief observations on two of the following topics:**\n",
    "\n",
    "i. Machine learning algorithms are used<br>\n",
    "ii. Studying under supervision<br>\n",
    "iii. Studying without supervision<br>\n",
    "iv. Reinforcement learning is a form of learning based on positive reinforcement.<br>\n",
    "\n",
    "- i. Machine learning algorithms are used to capture complex patterns in the data and geta significant equation which can be used to get the desired results after training.\n",
    "\n",
    "- ii. studying under supervisor means using supervised technique where the label or the output to particular data is given. We can get a equation by analysing the data given and come to a conclusion.\n",
    "\n",
    "- iii. studying without supervisor means using unsupervised techniques to get the label or group a particular amaount of data in the given data sets.\n",
    "\n",
    "- iv. Reinforcement learning is a machine learning training method based on rewarding desired behaviors and/or punishing undesired ones. In general, a reinforcement learning agent is able to perceive and interpret its environment, take actions and learn through trial and error."
   ]
  }
 ],
 "metadata": {
  "kernelspec": {
   "display_name": "Python 3",
   "language": "python",
   "name": "python3"
  },
  "language_info": {
   "codemirror_mode": {
    "name": "ipython",
    "version": 3
   },
   "file_extension": ".py",
   "mimetype": "text/x-python",
   "name": "python",
   "nbconvert_exporter": "python",
   "pygments_lexer": "ipython3",
   "version": "3.7.7"
  }
 },
 "nbformat": 4,
 "nbformat_minor": 4
}
